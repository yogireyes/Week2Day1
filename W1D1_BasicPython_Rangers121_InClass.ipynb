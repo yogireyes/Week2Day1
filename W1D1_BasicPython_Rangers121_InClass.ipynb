{
 "cells": [
  {
   "attachments": {},
   "cell_type": "markdown",
   "metadata": {},
   "source": [
    "## Exercise #1 <br>\n",
    "<p>Accept two user ages as inputs and give us the difference between them. (The Answer should always be a positive output)</p>"
   ]
  },
  {
   "cell_type": "code",
   "execution_count": null,
   "metadata": {},
   "outputs": [],
   "source": [
    "answer1 = int(input(\"How old are you\"))\n",
    "answer2 = int(input(\"how old are you?\"))\n",
    "\n",
    "print(abs(answer1 - answer2))\n",
    "        \n",
    "        \n"
   ]
  },
  {
   "attachments": {},
   "cell_type": "markdown",
   "metadata": {},
   "source": [
    "## Exercise #2 \n",
    "<p>Accept 3 user inputs for variables named noun, verb and adjective. Print out a formatted string using the outputs.</p>"
   ]
  },
  {
   "cell_type": "code",
   "execution_count": null,
   "metadata": {},
   "outputs": [],
   "source": [
    "noun = input(\"Give me a noun?\")\n",
    "verb = input(\"Give me a verb?\")\n",
    "adjective = input(\"Give me a adjective?\")\n",
    "\n",
    "print(f\"The noun is {noun}, The verb is {verb}, The adjective is {adjective}\")\n",
    "\n",
    "\n",
    "        \n",
    "        \n"
   ]
  },
  {
   "attachments": {},
   "cell_type": "markdown",
   "metadata": {},
   "source": [
    "## Exercise #3 <br>\n",
    "<p>Take in a users input for their age, if they are younger than 18 print kids, if they're 18 to 65 print adults, else print seniors</p>"
   ]
  },
  {
   "cell_type": "code",
   "execution_count": null,
   "metadata": {},
   "outputs": [],
   "source": [
    "age = int(input(\"Give me your age?\"))\n",
    "num = 18\n",
    "senior = 65\n",
    "\n",
    "if age < num:\n",
    "    print('kids')\n",
    "elif age > senior : \n",
    "    print(\"seniors\")\n",
    "else:\n",
    "    print(\"adults\")\n",
    "    "
   ]
  },
  {
   "attachments": {},
   "cell_type": "markdown",
   "metadata": {},
   "source": [
    "## Exercise #4\n",
    "<p>Take in a number from a user input, output the number squared.</p>"
   ]
  },
  {
   "cell_type": "code",
   "execution_count": null,
   "metadata": {},
   "outputs": [],
   "source": [
    "user_number = int(input(\"Give me number\"))\n",
    "print(user_number**2)"
   ]
  },
  {
   "attachments": {},
   "cell_type": "markdown",
   "metadata": {},
   "source": [
    "## Exercise #5\n",
    "<p>Check the below variables' length. If the length of the word is greater than 5 output True, if it is less than 5, output False<p>\n"
   ]
  },
  {
   "cell_type": "code",
   "execution_count": null,
   "metadata": {},
   "outputs": [],
   "source": [
    "word1 = \"panini\"\n",
    "word2 = \"bulbasaur\"\n",
    "word3 = \"pie\"\n",
    "word4 = \"dolphin\"\n",
    "word5 = \"dog\"\n",
    "\n",
    "\n",
    "if (len(word1))> 5:\n",
    "    print(f\"{word1} is\", True)\n",
    "else:\n",
    "    print(f\"{word1} is\", False)\n",
    "if (len(word2))> 5:\n",
    "    print(f\"{word2} is\", True)\n",
    "else:\n",
    "    print(f\"{word2} is\", False)\n",
    "if (len(word3))> 5:\n",
    "    print(f\"{word3} is\", True)\n",
    "else:\n",
    "    print(f\"{word3} is\", False)\n",
    "if (len(word4))> 5:\n",
    "    print(f\"{word4} is\", True)\n",
    "else:\n",
    "    print(f\"{word4} is\", False)\n",
    "if (len(word5))> 5:\n",
    "    print(f\"{word5} is\", True)\n",
    "else:\n",
    "    print(f\"{word5} is\", False)\n"
   ]
  }
 ],
 "metadata": {
  "kernelspec": {
   "display_name": "Python 3 (ipykernel)",
   "language": "python",
   "name": "python3"
  },
  "language_info": {
   "codemirror_mode": {
    "name": "ipython",
    "version": 3
   },
   "file_extension": ".py",
   "mimetype": "text/x-python",
   "name": "python",
   "nbconvert_exporter": "python",
   "pygments_lexer": "ipython3",
   "version": "3.10.11"
  }
 },
 "nbformat": 4,
 "nbformat_minor": 2
}
